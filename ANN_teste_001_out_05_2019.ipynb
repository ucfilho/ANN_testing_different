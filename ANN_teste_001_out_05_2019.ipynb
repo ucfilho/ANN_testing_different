{
  "nbformat": 4,
  "nbformat_minor": 0,
  "metadata": {
    "colab": {
      "name": "ANN_teste_001_out_05_2019.ipynb",
      "provenance": [],
      "collapsed_sections": [],
      "include_colab_link": true
    },
    "kernelspec": {
      "name": "python3",
      "display_name": "Python 3"
    }
  },
  "cells": [
    {
      "cell_type": "markdown",
      "metadata": {
        "id": "view-in-github",
        "colab_type": "text"
      },
      "source": [
        "<a href=\"https://colab.research.google.com/github/ucfilho/ANN_testing_different/blob/master/ANN_teste_001_out_05_2019.ipynb\" target=\"_parent\"><img src=\"https://colab.research.google.com/assets/colab-badge.svg\" alt=\"Open In Colab\"/></a>"
      ]
    },
    {
      "cell_type": "code",
      "metadata": {
        "id": "-Enjg_HlanQS",
        "colab_type": "code",
        "colab": {}
      },
      "source": [
        "import numpy as np"
      ],
      "execution_count": 0,
      "outputs": []
    },
    {
      "cell_type": "code",
      "metadata": {
        "id": "oa96g8W2apys",
        "colab_type": "code",
        "colab": {}
      },
      "source": [
        "# https://brilliant.org/wiki/backpropagation/"
      ],
      "execution_count": 0,
      "outputs": []
    },
    {
      "cell_type": "code",
      "metadata": {
        "id": "AWd5nqoiVz33",
        "colab_type": "code",
        "outputId": "438f17b0-aea6-48e9-b5cf-a38453401829",
        "colab": {
          "base_uri": "https://localhost:8080/",
          "height": 145
        }
      },
      "source": [
        "\n",
        "\n",
        "# define the sigmoid function\n",
        "def sigmoid(x, derivative=False):\n",
        "\n",
        "    if (derivative == True):\n",
        "        return x * (1 - x)\n",
        "    else:\n",
        "        return 1 / (1 + np.exp(-x))\n",
        "\n",
        "# choose a random seed for reproducible results\n",
        "np.random.seed(1)\n",
        "\n",
        "# learning rate\n",
        "alpha = .1\n",
        "\n",
        "# number of nodes in the hidden layer\n",
        "num_hidden = 3\n",
        "\n",
        "# inputs\n",
        "X = np.array([  \n",
        "    [0, 0, 1],\n",
        "    [0, 1, 1],\n",
        "    [1, 0, 0],\n",
        "    [1, 1, 0],\n",
        "    [1, 0, 1],\n",
        "    [1, 1, 1],\n",
        "])\n",
        "\n",
        "# outputs\n",
        "# x.T is the transpose of x, making this a column vector\n",
        "y = np.array([[0, 1, 0, 1, 1, 0]]).T\n",
        "\n",
        "# initialize weights randomly with mean 0 and range [-1, 1]\n",
        "# the +1 in the 1st dimension of the weight matrices is for the bias weight\n",
        "hidden_weights = 2*np.random.random((X.shape[1] + 1, num_hidden)) - 1\n",
        "output_weights = 2*np.random.random((num_hidden + 1, y.shape[1])) - 1\n",
        "\n",
        "# number of iterations of gradient descent\n",
        "num_iterations = 10000\n",
        "\n",
        "# for each iteration of gradient descent\n",
        "for i in range(num_iterations):\n",
        "\n",
        "    # forward phase\n",
        "    # np.hstack((np.ones(...), X) adds a fixed input of 1 for the bias weight\n",
        "    input_layer_outputs = np.hstack((np.ones((X.shape[0], 1)), X))\n",
        "    hidden_layer_outputs = np.hstack((np.ones((X.shape[0], 1)), sigmoid(np.dot(input_layer_outputs, hidden_weights))))\n",
        "    output_layer_outputs = np.dot(hidden_layer_outputs, output_weights)\n",
        "\n",
        "    # backward phase\n",
        "    # output layer error term\n",
        "    output_error = output_layer_outputs - y\n",
        "    # hidden layer error term\n",
        "    # [:, 1:] removes the bias term from the backpropagation\n",
        "    hidden_error = hidden_layer_outputs[:, 1:] * (1 - hidden_layer_outputs[:, 1:]) * np.dot(output_error, output_weights.T[:, 1:])\n",
        "\n",
        "    # partial derivatives\n",
        "    hidden_pd = input_layer_outputs[:, :, np.newaxis] * hidden_error[: , np.newaxis, :]\n",
        "    output_pd = hidden_layer_outputs[:, :, np.newaxis] * output_error[:, np.newaxis, :]\n",
        "\n",
        "    # average for total gradients\n",
        "    total_hidden_gradient = np.average(hidden_pd, axis=0)\n",
        "    total_output_gradient = np.average(output_pd, axis=0)\n",
        "\n",
        "    # update weights\n",
        "    hidden_weights += - alpha * total_hidden_gradient\n",
        "    output_weights += - alpha * total_output_gradient\n",
        "\n",
        "# print the final outputs of the neural network on the inputs X\n",
        "print(\"Output After Training: \\n{}\".format(output_layer_outputs))"
      ],
      "execution_count": 3,
      "outputs": [
        {
          "output_type": "stream",
          "text": [
            "Output After Training: \n",
            "[[2.11135662e-04]\n",
            " [9.99525588e-01]\n",
            " [1.66889680e-04]\n",
            " [9.99576185e-01]\n",
            " [9.99362960e-01]\n",
            " [1.30185107e-03]]\n"
          ],
          "name": "stdout"
        }
      ]
    }
  ]
}